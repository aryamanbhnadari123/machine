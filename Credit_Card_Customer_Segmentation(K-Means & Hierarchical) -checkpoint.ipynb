{
 "cells": [
  {
   "cell_type": "markdown",
   "metadata": {
    "id": "2kc3NR2wVqjT"
   },
   "source": [
    "## **AllLife Bank Credit Card Customer Segmentation using Clustering**\n"
   ]
  },
  {
   "cell_type": "markdown",
   "metadata": {
    "id": "TAVbQFZRVWyk"
   },
   "source": [
    "## Context:\n",
    "AllLife Bank wants to focus on its credit card customer base in the next financial year. They have been advised by their marketing research team, that the penetration in the market can be improved. Based on this input, the Marketing team proposes to run personalized campaigns to target new customers as well as up sell to existing customers. Another insight from the market research was that the customers perceive the support services of the back poorly. Based on this, the Operations team wants to upgrade the service delivery model, to ensure that customer’s queries are resolved faster. Head of Marketing and Head of Delivery both decide to reach out to the Data Science team for help.\n"
   ]
  },
  {
   "cell_type": "markdown",
   "metadata": {
    "id": "SmQTruB3XhZ8"
   },
   "source": [
    "## Objective: To identify different segments in the existing customer based on their spending patterns as well as past interaction with the bank."
   ]
  },
  {
   "cell_type": "code",
   "execution_count": 1,
   "metadata": {
    "executionInfo": {
     "elapsed": 1049,
     "status": "ok",
     "timestamp": 1680068330335,
     "user": {
      "displayName": "AIML Program",
      "userId": "12349933480812372345"
     },
     "user_tz": -330
    },
    "id": "PJ611-gWXhaD"
   },
   "outputs": [],
   "source": [
    "# importing libraries\n",
    "import pandas as pd\n",
    "import numpy as np\n",
    "import matplotlib.pyplot as plt\n",
    "import seaborn as sns\n",
    "import warnings\n",
    "warnings.filterwarnings('ignore') # To supress warnings"
   ]
  },
  {
   "cell_type": "code",
   "execution_count": 2,
   "metadata": {
    "executionInfo": {
     "elapsed": 2,
     "status": "ok",
     "timestamp": 1680068330945,
     "user": {
      "displayName": "AIML Program",
      "userId": "12349933480812372345"
     },
     "user_tz": -330
    },
    "id": "A5OmddbyXhaH"
   },
   "outputs": [
    {
     "data": {
      "text/html": [
       "<div>\n",
       "<style scoped>\n",
       "    .dataframe tbody tr th:only-of-type {\n",
       "        vertical-align: middle;\n",
       "    }\n",
       "\n",
       "    .dataframe tbody tr th {\n",
       "        vertical-align: top;\n",
       "    }\n",
       "\n",
       "    .dataframe thead th {\n",
       "        text-align: right;\n",
       "    }\n",
       "</style>\n",
       "<table border=\"1\" class=\"dataframe\">\n",
       "  <thead>\n",
       "    <tr style=\"text-align: right;\">\n",
       "      <th></th>\n",
       "      <th>Sl_No</th>\n",
       "      <th>Customer Key</th>\n",
       "      <th>Avg_Credit_Limit</th>\n",
       "      <th>Total_Credit_Cards</th>\n",
       "      <th>Total_visits_bank</th>\n",
       "      <th>Total_visits_online</th>\n",
       "      <th>Total_calls_made</th>\n",
       "    </tr>\n",
       "  </thead>\n",
       "  <tbody>\n",
       "    <tr>\n",
       "      <th>0</th>\n",
       "      <td>1</td>\n",
       "      <td>87073</td>\n",
       "      <td>100000</td>\n",
       "      <td>2</td>\n",
       "      <td>1</td>\n",
       "      <td>1</td>\n",
       "      <td>0</td>\n",
       "    </tr>\n",
       "    <tr>\n",
       "      <th>1</th>\n",
       "      <td>2</td>\n",
       "      <td>38414</td>\n",
       "      <td>50000</td>\n",
       "      <td>3</td>\n",
       "      <td>0</td>\n",
       "      <td>10</td>\n",
       "      <td>9</td>\n",
       "    </tr>\n",
       "    <tr>\n",
       "      <th>2</th>\n",
       "      <td>3</td>\n",
       "      <td>17341</td>\n",
       "      <td>50000</td>\n",
       "      <td>7</td>\n",
       "      <td>1</td>\n",
       "      <td>3</td>\n",
       "      <td>4</td>\n",
       "    </tr>\n",
       "    <tr>\n",
       "      <th>3</th>\n",
       "      <td>4</td>\n",
       "      <td>40496</td>\n",
       "      <td>30000</td>\n",
       "      <td>5</td>\n",
       "      <td>1</td>\n",
       "      <td>1</td>\n",
       "      <td>4</td>\n",
       "    </tr>\n",
       "    <tr>\n",
       "      <th>4</th>\n",
       "      <td>5</td>\n",
       "      <td>47437</td>\n",
       "      <td>100000</td>\n",
       "      <td>6</td>\n",
       "      <td>0</td>\n",
       "      <td>12</td>\n",
       "      <td>3</td>\n",
       "    </tr>\n",
       "  </tbody>\n",
       "</table>\n",
       "</div>"
      ],
      "text/plain": [
       "   Sl_No  Customer Key  Avg_Credit_Limit  Total_Credit_Cards  \\\n",
       "0      1         87073            100000                   2   \n",
       "1      2         38414             50000                   3   \n",
       "2      3         17341             50000                   7   \n",
       "3      4         40496             30000                   5   \n",
       "4      5         47437            100000                   6   \n",
       "\n",
       "   Total_visits_bank  Total_visits_online  Total_calls_made  \n",
       "0                  1                    1                 0  \n",
       "1                  0                   10                 9  \n",
       "2                  1                    3                 4  \n",
       "3                  1                    1                 4  \n",
       "4                  0                   12                 3  "
      ]
     },
     "execution_count": 2,
     "metadata": {},
     "output_type": "execute_result"
    }
   ],
   "source": [
    "# Read the dataset\n",
    "data = pd.read_csv('Credit Card Customer Data.csv')\n",
    "data.head()"
   ]
  },
  {
   "cell_type": "code",
   "execution_count": 6,
   "metadata": {
    "colab": {
     "base_uri": "https://localhost:8080/",
     "height": 206
    },
    "executionInfo": {
     "elapsed": 5,
     "status": "ok",
     "timestamp": 1680068332337,
     "user": {
      "displayName": "AIML Program",
      "userId": "12349933480812372345"
     },
     "user_tz": -330
    },
    "id": "4plo957iXhaI",
    "outputId": "477f3d4f-52ed-498e-9cfe-17176d5a4c71"
   },
   "outputs": [
    {
     "data": {
      "text/plain": [
       "Sl_No                       1\n",
       "Customer Key            87073\n",
       "Avg_Credit_Limit       100000\n",
       "Total_Credit_Cards          2\n",
       "Total_visits_bank           1\n",
       "Total_visits_online         1\n",
       "Total_calls_made            0\n",
       "Name: 0, dtype: int64"
      ]
     },
     "execution_count": 6,
     "metadata": {},
     "output_type": "execute_result"
    }
   ],
   "source": [
    "data.iloc[0]"
   ]
  },
  {
   "cell_type": "code",
   "execution_count": 10,
   "metadata": {
    "colab": {
     "base_uri": "https://localhost:8080/"
    },
    "executionInfo": {
     "elapsed": 10,
     "status": "ok",
     "timestamp": 1680068332991,
     "user": {
      "displayName": "AIML Program",
      "userId": "12349933480812372345"
     },
     "user_tz": -330
    },
    "id": "Ig1IhoAbXhaL",
    "outputId": "5be47abd-14f3-46d1-86f3-807fa1e165aa"
   },
   "outputs": [
    {
     "data": {
      "text/plain": [
       "(660, 7)"
      ]
     },
     "execution_count": 10,
     "metadata": {},
     "output_type": "execute_result"
    }
   ],
   "source": [
    "data.shape"
   ]
  },
  {
   "cell_type": "code",
   "execution_count": 11,
   "metadata": {
    "colab": {
     "base_uri": "https://localhost:8080/"
    },
    "executionInfo": {
     "elapsed": 9,
     "status": "ok",
     "timestamp": 1680068332992,
     "user": {
      "displayName": "AIML Program",
      "userId": "12349933480812372345"
     },
     "user_tz": -330
    },
    "id": "QhOlmkw6XhaM",
    "outputId": "526cf231-87ba-4a5f-a3c9-119175185c1d",
    "scrolled": true
   },
   "outputs": [
    {
     "name": "stdout",
     "output_type": "stream",
     "text": [
      "<class 'pandas.core.frame.DataFrame'>\n",
      "RangeIndex: 660 entries, 0 to 659\n",
      "Data columns (total 7 columns):\n",
      " #   Column               Non-Null Count  Dtype\n",
      "---  ------               --------------  -----\n",
      " 0   Sl_No                660 non-null    int64\n",
      " 1   Customer Key         660 non-null    int64\n",
      " 2   Avg_Credit_Limit     660 non-null    int64\n",
      " 3   Total_Credit_Cards   660 non-null    int64\n",
      " 4   Total_visits_bank    660 non-null    int64\n",
      " 5   Total_visits_online  660 non-null    int64\n",
      " 6   Total_calls_made     660 non-null    int64\n",
      "dtypes: int64(7)\n",
      "memory usage: 36.2 KB\n"
     ]
    }
   ],
   "source": [
    "data.info()"
   ]
  },
  {
   "cell_type": "code",
   "execution_count": 12,
   "metadata": {
    "colab": {
     "base_uri": "https://localhost:8080/"
    },
    "executionInfo": {
     "elapsed": 2,
     "status": "ok",
     "timestamp": 1680068334264,
     "user": {
      "displayName": "AIML Program",
      "userId": "12349933480812372345"
     },
     "user_tz": -330
    },
    "id": "J3S4itjvXVI7",
    "outputId": "cd4dcf76-e296-4cf5-d237-9c8a864e95e9"
   },
   "outputs": [
    {
     "data": {
      "text/plain": [
       "0"
      ]
     },
     "execution_count": 12,
     "metadata": {},
     "output_type": "execute_result"
    }
   ],
   "source": [
    "# Check for duplicate data\n",
    "data.duplicated().sum()"
   ]
  },
  {
   "cell_type": "markdown",
   "metadata": {
    "id": "YhEBvC8IWxft"
   },
   "source": [
    " Data contains no duplicate values."
   ]
  },
  {
   "cell_type": "code",
   "execution_count": null,
   "metadata": {
    "colab": {
     "base_uri": "https://localhost:8080/"
    },
    "executionInfo": {
     "elapsed": 3,
     "status": "ok",
     "timestamp": 1680068335555,
     "user": {
      "displayName": "AIML Program",
      "userId": "12349933480812372345"
     },
     "user_tz": -330
    },
    "id": "f1ZJZzZ3Xtg2",
    "outputId": "3942659c-ed4b-4e24-b261-bded04be53ab"
   },
   "outputs": [],
   "source": [
    "#figure out the uniques in each column\n",
    "data.nunique()"
   ]
  },
  {
   "cell_type": "markdown",
   "metadata": {
    "id": "UUy96BLje_wy"
   },
   "source": [
    "- Customer key, which is an identifier, has repeated values."
   ]
  },
  {
   "cell_type": "code",
   "execution_count": null,
   "metadata": {
    "colab": {
     "base_uri": "https://localhost:8080/"
    },
    "executionInfo": {
     "elapsed": 4,
     "status": "ok",
     "timestamp": 1680068337109,
     "user": {
      "displayName": "AIML Program",
      "userId": "12349933480812372345"
     },
     "user_tz": -330
    },
    "id": "uY0C3ig1e3Ki",
    "outputId": "a8adce42-7ace-4a83-8980-1893eae73595"
   },
   "outputs": [],
   "source": [
    "# Identify the duplicated customer keys\n",
    "duplicate_keys=data.duplicated('Customer Key') == True\n",
    "duplicate_keys"
   ]
  },
  {
   "cell_type": "code",
   "execution_count": null,
   "metadata": {
    "executionInfo": {
     "elapsed": 3,
     "status": "ok",
     "timestamp": 1680068337605,
     "user": {
      "displayName": "AIML Program",
      "userId": "12349933480812372345"
     },
     "user_tz": -330
    },
    "id": "H0IZDPISe3HE"
   },
   "outputs": [],
   "source": [
    "# Drop duplicated keys\n",
    "data=data[duplicate_keys == False]"
   ]
  },
  {
   "cell_type": "code",
   "execution_count": null,
   "metadata": {
    "executionInfo": {
     "elapsed": 10,
     "status": "ok",
     "timestamp": 1680068339251,
     "user": {
      "displayName": "AIML Program",
      "userId": "12349933480812372345"
     },
     "user_tz": -330
    },
    "id": "hlAZTKdUe3Di"
   },
   "outputs": [],
   "source": [
    "# drop the columns that is not needed for the Analysis\n",
    "data.drop(columns = ['Sl_No', 'Customer Key'], inplace = True)"
   ]
  },
  {
   "cell_type": "code",
   "execution_count": null,
   "metadata": {
    "colab": {
     "base_uri": "https://localhost:8080/"
    },
    "executionInfo": {
     "elapsed": 9,
     "status": "ok",
     "timestamp": 1680068339253,
     "user": {
      "displayName": "AIML Program",
      "userId": "12349933480812372345"
     },
     "user_tz": -330
    },
    "id": "nO2biUgCgE8c",
    "outputId": "e23e9240-bbc2-4509-8563-19bac6b0c9bc"
   },
   "outputs": [],
   "source": [
    "data.shape"
   ]
  },
  {
   "cell_type": "markdown",
   "metadata": {
    "id": "VM8pU34BgH4Z"
   },
   "source": [
    "### Observation\n",
    "\n",
    "- After removing duplicated keys and rows and unnecessary columns, there are 655 unique observations and 5 columns in our data."
   ]
  },
  {
   "cell_type": "markdown",
   "metadata": {
    "id": "PJuuL7wQXhaQ"
   },
   "source": [
    "## Exploratory Data Analysis"
   ]
  },
  {
   "cell_type": "markdown",
   "metadata": {
    "id": "WyJQwzvgkpCy"
   },
   "source": [
    "**Statistics**"
   ]
  },
  {
   "cell_type": "code",
   "execution_count": null,
   "metadata": {
    "colab": {
     "base_uri": "https://localhost:8080/",
     "height": 300
    },
    "executionInfo": {
     "elapsed": 521,
     "status": "ok",
     "timestamp": 1680068347646,
     "user": {
      "displayName": "AIML Program",
      "userId": "12349933480812372345"
     },
     "user_tz": -330
    },
    "id": "i3e2uq3UkhUQ",
    "outputId": "a10784b8-a84b-4ec2-baca-d704c14c82f9"
   },
   "outputs": [],
   "source": [
    "data.describe()"
   ]
  },
  {
   "cell_type": "markdown",
   "metadata": {
    "id": "W1BqBAS5k_b5"
   },
   "source": [
    "- Credit limit average is around 35K with 50% of customers having a credit limit less than 18K, which implies a high positive skewness."
   ]
  },
  {
   "cell_type": "markdown",
   "metadata": {
    "id": "caP_ZqsakZXE"
   },
   "source": [
    "### Univariate Analysis"
   ]
  },
  {
   "cell_type": "markdown",
   "metadata": {
    "id": "6kE3m-kVkKXC"
   },
   "source": [
    "#### **Distribution Plot**"
   ]
  },
  {
   "cell_type": "code",
   "execution_count": null,
   "metadata": {
    "colab": {
     "base_uri": "https://localhost:8080/",
     "height": 471
    },
    "executionInfo": {
     "elapsed": 10,
     "status": "ok",
     "timestamp": 1680068353072,
     "user": {
      "displayName": "AIML Program",
      "userId": "12349933480812372345"
     },
     "user_tz": -330
    },
    "id": "OLLoKufriD-n",
    "outputId": "4a39c5f4-8143-4468-9b75-0740441787ad"
   },
   "outputs": [],
   "source": [
    "plt.figure(figsize = (14, 7))\n",
    "sns.distplot(data['Avg_Credit_Limit'])"
   ]
  },
  {
   "cell_type": "code",
   "execution_count": null,
   "metadata": {
    "colab": {
     "base_uri": "https://localhost:8080/",
     "height": 445
    },
    "executionInfo": {
     "elapsed": 608,
     "status": "ok",
     "timestamp": 1680068353673,
     "user": {
      "displayName": "AIML Program",
      "userId": "12349933480812372345"
     },
     "user_tz": -330
    },
    "id": "fBvdNDC6lHWc",
    "outputId": "c9b4aa97-a31f-4513-adaf-5c0448808690"
   },
   "outputs": [],
   "source": [
    "plt.figure(figsize = (14, 7))\n",
    "sns.boxplot(data['Avg_Credit_Limit'])"
   ]
  },
  {
   "cell_type": "markdown",
   "metadata": {
    "id": "YKbtuKVnoN9a"
   },
   "source": [
    "*The Average Credit Limit is right skewed with a lot of outliers.*"
   ]
  },
  {
   "cell_type": "code",
   "execution_count": null,
   "metadata": {
    "colab": {
     "base_uri": "https://localhost:8080/"
    },
    "executionInfo": {
     "elapsed": 3,
     "status": "ok",
     "timestamp": 1680068355214,
     "user": {
      "displayName": "AIML Program",
      "userId": "12349933480812372345"
     },
     "user_tz": -330
    },
    "id": "SuuSSXMJpcml",
    "outputId": "0e9ea3a5-ac35-4857-f538-a4b28a7eca57"
   },
   "outputs": [],
   "source": [
    "data.columns"
   ]
  },
  {
   "cell_type": "code",
   "execution_count": null,
   "metadata": {
    "colab": {
     "base_uri": "https://localhost:8080/",
     "height": 1000
    },
    "executionInfo": {
     "elapsed": 2745,
     "status": "ok",
     "timestamp": 1680068366242,
     "user": {
      "displayName": "AIML Program",
      "userId": "12349933480812372345"
     },
     "user_tz": -330
    },
    "id": "URj6YAEZpWdP",
    "outputId": "bb8dfa46-f392-44d5-bcc6-c6e0a8d15a64"
   },
   "outputs": [],
   "source": [
    "fig, ax = plt.subplots(nrows=4, ncols=1, figsize=(20, 23))\n",
    "cols_ = ['Total_Credit_Cards', 'Total_visits_bank', 'Total_visits_online', 'Total_calls_made']\n",
    "for ind, col in enumerate(cols_):\n",
    "    sns.countplot(x=col, data=data, ax=ax[ind])"
   ]
  },
  {
   "cell_type": "markdown",
   "metadata": {
    "id": "-KigasvTp5ON"
   },
   "source": [
    "### Observations\n",
    "\n",
    "1. The above graph shows that the maximum customers have 4 credit cards.\n",
    "2. Majority of customers visited bank for 2 times.\n",
    "3. Majority of customers visited bank online for 2 times followed by 0 times.\n",
    "4. Maximum customers have made 4 calls followed by no calls and 1 call."
   ]
  },
  {
   "cell_type": "markdown",
   "metadata": {
    "id": "um2d5h1Yt1L0"
   },
   "source": [
    "### Multi-variate Analysis"
   ]
  },
  {
   "cell_type": "code",
   "execution_count": null,
   "metadata": {
    "colab": {
     "base_uri": "https://localhost:8080/",
     "height": 488
    },
    "executionInfo": {
     "elapsed": 696,
     "status": "ok",
     "timestamp": 1680068366933,
     "user": {
      "displayName": "AIML Program",
      "userId": "12349933480812372345"
     },
     "user_tz": -330
    },
    "id": "huXtCAMqXhaf",
    "outputId": "702cd792-9d83-40fe-b6f1-411e5192d4f9",
    "scrolled": true
   },
   "outputs": [],
   "source": [
    "plt.figure(figsize=(15,8))\n",
    "\n",
    "sns.heatmap(data[['Avg_Credit_Limit', 'Total_Credit_Cards', 'Total_visits_bank', 'Total_visits_online', 'Total_calls_made']].corr(), \n",
    "            annot=True, cmap=\"PiYG\");"
   ]
  },
  {
   "cell_type": "markdown",
   "metadata": {
    "id": "AlltSIg_uQMN"
   },
   "source": [
    "#### Observations\n",
    "\n",
    "- Avg_Credit_Limit is positively correlated with Total_Credit_Cards and\n",
    "Total_visits_online which can makes sense.\n",
    "- Avg_Credit_Limit is negatively correlated with Total_calls_made and Total_visits_bank.\n",
    "- Total_visits_bank, Total_visits_online, Total_calls_made are negatively correlated which implies that majority of customers use only one of these channels to contact the bank.\n",
    "- Total credit cards and Total calls made are negatively correlated with each other."
   ]
  },
  {
   "cell_type": "markdown",
   "metadata": {
    "id": "NvFZDZYXXhag"
   },
   "source": [
    "## Data Preprocessing"
   ]
  },
  {
   "cell_type": "markdown",
   "metadata": {
    "id": "Mur7SnjQvxDk"
   },
   "source": [
    "### **Outlier Detection & Handling**"
   ]
  },
  {
   "cell_type": "code",
   "execution_count": null,
   "metadata": {
    "executionInfo": {
     "elapsed": 5,
     "status": "ok",
     "timestamp": 1680068367738,
     "user": {
      "displayName": "AIML Program",
      "userId": "12349933480812372345"
     },
     "user_tz": -330
    },
    "id": "SUoSRrGSvu0y"
   },
   "outputs": [],
   "source": [
    "# Outlier Detection For Average Credit Limit\n",
    "\n",
    "Q1 = data['Avg_Credit_Limit'].quantile(0.25)\n",
    "Q3 = data['Avg_Credit_Limit'].quantile(0.75)\n",
    "\n",
    "IQR = Q3 - Q1\n",
    "data = data[(data['Avg_Credit_Limit'] >= Q1 - 3*IQR) & (data['Avg_Credit_Limit'] <= Q3 + 3*IQR)]"
   ]
  },
  {
   "cell_type": "code",
   "execution_count": null,
   "metadata": {
    "colab": {
     "base_uri": "https://localhost:8080/",
     "height": 592
    },
    "executionInfo": {
     "elapsed": 4,
     "status": "ok",
     "timestamp": 1680068367738,
     "user": {
      "displayName": "AIML Program",
      "userId": "12349933480812372345"
     },
     "user_tz": -330
    },
    "id": "NLAtkbZJvuw5",
    "outputId": "86c3ad27-507f-4433-ad7a-ddbcfd472bee"
   },
   "outputs": [],
   "source": [
    "## Let's visualize the graph after outlier treatment\n",
    "plt.figure(figsize=(15, 10))\n",
    "sns.boxplot(data['Avg_Credit_Limit'], orient = 'v')\n",
    "plt.show()"
   ]
  },
  {
   "cell_type": "code",
   "execution_count": null,
   "metadata": {
    "colab": {
     "base_uri": "https://localhost:8080/",
     "height": 206
    },
    "executionInfo": {
     "elapsed": 4,
     "status": "ok",
     "timestamp": 1680068368651,
     "user": {
      "displayName": "AIML Program",
      "userId": "12349933480812372345"
     },
     "user_tz": -330
    },
    "id": "HgSzHo_UXhar",
    "outputId": "8b3f8b47-a426-4e6e-eeca-2343029ec915"
   },
   "outputs": [],
   "source": [
    "data.head()"
   ]
  },
  {
   "cell_type": "code",
   "execution_count": null,
   "metadata": {
    "colab": {
     "base_uri": "https://localhost:8080/"
    },
    "executionInfo": {
     "elapsed": 696,
     "status": "ok",
     "timestamp": 1680068370567,
     "user": {
      "displayName": "AIML Program",
      "userId": "12349933480812372345"
     },
     "user_tz": -330
    },
    "id": "JlMklrPnXhas",
    "outputId": "ae004501-d874-41b4-ddee-1d7daef16da9"
   },
   "outputs": [],
   "source": [
    "data.shape"
   ]
  },
  {
   "cell_type": "code",
   "execution_count": null,
   "metadata": {
    "colab": {
     "base_uri": "https://localhost:8080/"
    },
    "executionInfo": {
     "elapsed": 7,
     "status": "ok",
     "timestamp": 1680068437004,
     "user": {
      "displayName": "AIML Program",
      "userId": "12349933480812372345"
     },
     "user_tz": -330
    },
    "id": "YvOeTgSm4OW8",
    "outputId": "ff5c5644-b82a-4125-acea-b598acf21331"
   },
   "outputs": [],
   "source": [
    "# Make a copy of Original Dataframe\n",
    "df = data.copy()\n",
    "df.shape"
   ]
  },
  {
   "cell_type": "markdown",
   "metadata": {
    "id": "2JccMvlIxj_O"
   },
   "source": [
    "#### Standardization\n",
    "\n",
    "Before clustering, we should always scale the data, because, different scales of features would result in unintentional importance to the feature of higher scale while calculating the distances."
   ]
  },
  {
   "cell_type": "code",
   "execution_count": null,
   "metadata": {
    "executionInfo": {
     "elapsed": 3,
     "status": "ok",
     "timestamp": 1680068440417,
     "user": {
      "displayName": "AIML Program",
      "userId": "12349933480812372345"
     },
     "user_tz": -330
    },
    "id": "YGKzQ9d_xqyD"
   },
   "outputs": [],
   "source": [
    "# Standardize the dataset\n",
    "\n",
    "from sklearn.preprocessing import StandardScaler\n",
    "scaler = StandardScaler()\n",
    "std_data = scaler.fit_transform(data)"
   ]
  },
  {
   "cell_type": "code",
   "execution_count": null,
   "metadata": {
    "colab": {
     "base_uri": "https://localhost:8080/"
    },
    "executionInfo": {
     "elapsed": 2,
     "status": "ok",
     "timestamp": 1680068441158,
     "user": {
      "displayName": "AIML Program",
      "userId": "12349933480812372345"
     },
     "user_tz": -330
    },
    "id": "BDKwSJnhx1F3",
    "outputId": "85efe618-e103-4603-8d52-376c4bc5e632"
   },
   "outputs": [],
   "source": [
    "std_data"
   ]
  },
  {
   "cell_type": "code",
   "execution_count": null,
   "metadata": {
    "executionInfo": {
     "elapsed": 2,
     "status": "ok",
     "timestamp": 1680068441642,
     "user": {
      "displayName": "AIML Program",
      "userId": "12349933480812372345"
     },
     "user_tz": -330
    },
    "id": "b_46WyXWwOR9"
   },
   "outputs": [],
   "source": [
    "std_data_x = np.copy(std_data)"
   ]
  },
  {
   "cell_type": "markdown",
   "metadata": {
    "id": "hYHoClTqXhat"
   },
   "source": [
    "## Apply K-Means Clustering Algorithms"
   ]
  },
  {
   "cell_type": "code",
   "execution_count": null,
   "metadata": {
    "executionInfo": {
     "elapsed": 5,
     "status": "ok",
     "timestamp": 1680068442363,
     "user": {
      "displayName": "AIML Program",
      "userId": "12349933480812372345"
     },
     "user_tz": -330
    },
    "id": "CHJ4-UK0Xhau"
   },
   "outputs": [],
   "source": [
    "from sklearn import metrics\n",
    "from sklearn.metrics import silhouette_score\n",
    "\n",
    "from sklearn.cluster import AgglomerativeClustering\n",
    "from scipy.cluster.hierarchy import dendrogram, linkage\n",
    "\n",
    "from sklearn.cluster import KMeans\n",
    "from sklearn.cluster import DBSCAN\n",
    "\n",
    "from sklearn import cluster \n",
    "from sklearn.cluster import SpectralClustering"
   ]
  },
  {
   "cell_type": "markdown",
   "metadata": {
    "id": "z_KpJmsRXhav"
   },
   "source": [
    "### Determining Number of Clusters with Elbow Method"
   ]
  },
  {
   "cell_type": "code",
   "execution_count": null,
   "metadata": {
    "executionInfo": {
     "elapsed": 4,
     "status": "ok",
     "timestamp": 1680068443687,
     "user": {
      "displayName": "AIML Program",
      "userId": "12349933480812372345"
     },
     "user_tz": -330
    },
    "id": "oTEfKJhdXhaw"
   },
   "outputs": [],
   "source": [
    "wcss = []\n",
    "cluster_list = range(1, 12)\n",
    "for i in cluster_list :\n",
    "    kmeans = KMeans(n_clusters = i, init = 'k-means++', max_iter = 300, random_state = 40)\n",
    "    kmeans.fit(std_data)\n",
    "    wcss.append(kmeans.inertia_)"
   ]
  },
  {
   "cell_type": "code",
   "execution_count": null,
   "metadata": {
    "colab": {
     "base_uri": "https://localhost:8080/",
     "height": 567
    },
    "executionInfo": {
     "elapsed": 5,
     "status": "ok",
     "timestamp": 1680068444394,
     "user": {
      "displayName": "AIML Program",
      "userId": "12349933480812372345"
     },
     "user_tz": -330
    },
    "id": "9JS4P3lSXhaw",
    "outputId": "c3945b54-40d6-4407-d445-be67c1309486"
   },
   "outputs": [],
   "source": [
    "plt.figure(figsize=(13, 9))\n",
    "plt.plot(cluster_list, wcss)\n",
    "plt.title('The Elbow Graph')\n",
    "plt.xlabel('Clusters')\n",
    "plt.ylabel('WCSS')\n",
    "plt.show()"
   ]
  },
  {
   "cell_type": "markdown",
   "metadata": {
    "id": "UoEndCPlXhax"
   },
   "source": [
    "Now we can see that elbow is bend at cluster no. 3, so we can say that for this particular dataset we can choose 3 clusters."
   ]
  },
  {
   "cell_type": "markdown",
   "metadata": {
    "id": "zUer-UuBXhax"
   },
   "source": [
    "#### Cross Check to Determine the Number of Clusters with Silhouette Scores Method"
   ]
  },
  {
   "cell_type": "code",
   "execution_count": null,
   "metadata": {
    "colab": {
     "base_uri": "https://localhost:8080/"
    },
    "executionInfo": {
     "elapsed": 990,
     "status": "ok",
     "timestamp": 1680068447297,
     "user": {
      "displayName": "AIML Program",
      "userId": "12349933480812372345"
     },
     "user_tz": -330
    },
    "id": "xVxcCwAXXhaz",
    "outputId": "db70eb2a-2df5-4543-8308-8bec5ad4a450"
   },
   "outputs": [],
   "source": [
    "kmeans_values=[]\n",
    "\n",
    "for cluster in range(2,12):\n",
    "    kmeans = KMeans(n_clusters=cluster, random_state=40).fit_predict(std_data)\n",
    "    sil_score = metrics.silhouette_score(std_data, kmeans, metric='euclidean')\n",
    "    print(\"For n_clusters = {}, the silhouette score is {})\".format(cluster, sil_score))\n",
    "    kmeans_values.append((cluster,sil_score))"
   ]
  },
  {
   "cell_type": "markdown",
   "metadata": {
    "id": "o4dtfZZPXhaz"
   },
   "source": [
    "Again with silhouette analysis we can clearly observe that silhouette score is high when we have 3 clusters."
   ]
  },
  {
   "cell_type": "markdown",
   "metadata": {
    "id": "UFPYMdUa1rnR"
   },
   "source": [
    "***Let's build the model with K=3 based on the Elbow Curve and Silhouttee Score.***"
   ]
  },
  {
   "cell_type": "code",
   "execution_count": null,
   "metadata": {
    "executionInfo": {
     "elapsed": 4,
     "status": "ok",
     "timestamp": 1680068447993,
     "user": {
      "displayName": "AIML Program",
      "userId": "12349933480812372345"
     },
     "user_tz": -330
    },
    "id": "7g896f23Xha0"
   },
   "outputs": [],
   "source": [
    "kmeans = KMeans(n_clusters = 3, init = 'k-means++', max_iter = 300, random_state = 42)"
   ]
  },
  {
   "cell_type": "code",
   "execution_count": null,
   "metadata": {
    "colab": {
     "base_uri": "https://localhost:8080/"
    },
    "executionInfo": {
     "elapsed": 1018,
     "status": "ok",
     "timestamp": 1680068449443,
     "user": {
      "displayName": "AIML Program",
      "userId": "12349933480812372345"
     },
     "user_tz": -330
    },
    "id": "9dU4zgSUXha0",
    "outputId": "1341080b-9174-495c-9c08-8fc310f024e0"
   },
   "outputs": [],
   "source": [
    "y = kmeans.fit_predict(std_data)\n",
    "y"
   ]
  },
  {
   "cell_type": "code",
   "execution_count": null,
   "metadata": {
    "colab": {
     "base_uri": "https://localhost:8080/"
    },
    "executionInfo": {
     "elapsed": 12,
     "status": "ok",
     "timestamp": 1680068449444,
     "user": {
      "displayName": "AIML Program",
      "userId": "12349933480812372345"
     },
     "user_tz": -330
    },
    "id": "ZFKH6ADy2Tsy",
    "outputId": "2679fad0-504d-4ad6-f699-14a95c38413b"
   },
   "outputs": [],
   "source": [
    "kmeans.cluster_centers_"
   ]
  },
  {
   "cell_type": "markdown",
   "metadata": {
    "id": "z-1t_h742h2h"
   },
   "source": [
    "#### **Cluster Profiling with K-Means Clustering Method**"
   ]
  },
  {
   "cell_type": "code",
   "execution_count": null,
   "metadata": {
    "executionInfo": {
     "elapsed": 913,
     "status": "ok",
     "timestamp": 1680068450352,
     "user": {
      "displayName": "AIML Program",
      "userId": "12349933480812372345"
     },
     "user_tz": -330
    },
    "id": "mU_SvhFD2uT-"
   },
   "outputs": [],
   "source": [
    "data['K_means_segments'] = kmeans.labels_"
   ]
  },
  {
   "cell_type": "code",
   "execution_count": null,
   "metadata": {
    "colab": {
     "base_uri": "https://localhost:8080/"
    },
    "executionInfo": {
     "elapsed": 7,
     "status": "ok",
     "timestamp": 1680068450353,
     "user": {
      "displayName": "AIML Program",
      "userId": "12349933480812372345"
     },
     "user_tz": -330
    },
    "id": "2t4PRuE7y0qQ",
    "outputId": "cdf90611-5d9f-453c-b8ce-ea0d2bb17478"
   },
   "outputs": [],
   "source": [
    "data['K_means_segments'].value_counts()"
   ]
  },
  {
   "cell_type": "code",
   "execution_count": null,
   "metadata": {},
   "outputs": [],
   "source": [
    "data.head()"
   ]
  },
  {
   "cell_type": "code",
   "execution_count": null,
   "metadata": {
    "colab": {
     "base_uri": "https://localhost:8080/",
     "height": 174
    },
    "executionInfo": {
     "elapsed": 7,
     "status": "ok",
     "timestamp": 1680068450933,
     "user": {
      "displayName": "AIML Program",
      "userId": "12349933480812372345"
     },
     "user_tz": -330
    },
    "id": "IVnQ4Hcg2im-",
    "outputId": "d5d2324d-f44f-4eac-c4b6-180fe171f56e"
   },
   "outputs": [],
   "source": [
    "data['K_means_segments'] = kmeans.labels_\n",
    "cluster_profile = data.groupby('K_means_segments').mean()\n",
    "cluster_profile['No. of Customers'] = data.groupby('K_means_segments')['Avg_Credit_Limit'].count().values\n",
    "cluster_profile"
   ]
  },
  {
   "cell_type": "markdown",
   "metadata": {
    "id": "TwcEaUj-hmL5"
   },
   "source": [
    "### **Insights**\n",
    "\n",
    "- *If we look at the data we see that there is a group which prefers online interactions with their bank, they have a much higher credit limit and also have more credit cards (cluster - 2), but this group has minimum no. of customers (32).*\n",
    "- *The customers who prefer in-person interactions tend to have the mid-range of credit cards and credit limit (cluster - 1) and this group has highest number of customers (382).*\n",
    "- *The customers who contact via phonecall are in another segment, who have lowest credit limit and number of cards (cluster - 0).*"
   ]
  },
  {
   "cell_type": "markdown",
   "metadata": {
    "id": "pjQ1FgLTXha1"
   },
   "source": [
    "## Hierarchical Clustering"
   ]
  },
  {
   "cell_type": "code",
   "execution_count": null,
   "metadata": {
    "executionInfo": {
     "elapsed": 923,
     "status": "ok",
     "timestamp": 1680068457520,
     "user": {
      "displayName": "AIML Program",
      "userId": "12349933480812372345"
     },
     "user_tz": -330
    },
    "id": "4HFWFGd8Xha1"
   },
   "outputs": [],
   "source": [
    "siliuette_list_hierarchical = []\n",
    "for cluster in range(2,15,1):\n",
    "    for linkage_method in ['single','average', 'complete', 'ward']:\n",
    "        agglomerative = AgglomerativeClustering(linkage=linkage_method, metric = 'euclidean', n_clusters=cluster).fit_predict(std_data)\n",
    "        sil_score = metrics.silhouette_score(std_data, agglomerative, metric='euclidean')\n",
    "        siliuette_list_hierarchical.append((cluster, sil_score, linkage_method, len(set(agglomerative))))        \n",
    "df_hierarchical = pd.DataFrame(siliuette_list_hierarchical, columns=['clusters', 'sil_score','linkage_method'])"
   ]
  },
  {
   "cell_type": "code",
   "execution_count": null,
   "metadata": {
    "colab": {
     "base_uri": "https://localhost:8080/",
     "height": 1000
    },
    "executionInfo": {
     "elapsed": 11,
     "status": "ok",
     "timestamp": 1680068459278,
     "user": {
      "displayName": "AIML Program",
      "userId": "12349933480812372345"
     },
     "user_tz": -330
    },
    "id": "eza9_nnDXha2",
    "outputId": "11502762-af1d-496d-eb89-845843d8e499"
   },
   "outputs": [],
   "source": [
    "df_hierarchical.sort_values('sil_score', ascending=False)"
   ]
  },
  {
   "cell_type": "markdown",
   "metadata": {
    "id": "vlD2bvti8wHP"
   },
   "source": [
    "***Let's build the model with K=2 based on the Silhouttee Score.***"
   ]
  },
  {
   "cell_type": "code",
   "execution_count": null,
   "metadata": {
    "executionInfo": {
     "elapsed": 1540,
     "status": "ok",
     "timestamp": 1680068467247,
     "user": {
      "displayName": "AIML Program",
      "userId": "12349933480812372345"
     },
     "user_tz": -330
    },
    "id": "Wo5l6Sg3Xha2"
   },
   "outputs": [],
   "source": [
    "hierarchical_= AgglomerativeClustering(linkage='complete', affinity='euclidean', n_clusters=2).fit_predict(std_data)"
   ]
  },
  {
   "cell_type": "markdown",
   "metadata": {
    "id": "cf8G91nG9IYp"
   },
   "source": [
    "### **Cluster Profiling based on Agglomerative Clustering**"
   ]
  },
  {
   "cell_type": "code",
   "execution_count": null,
   "metadata": {
    "colab": {
     "base_uri": "https://localhost:8080/",
     "height": 143
    },
    "executionInfo": {
     "elapsed": 8,
     "status": "ok",
     "timestamp": 1680068472288,
     "user": {
      "displayName": "AIML Program",
      "userId": "12349933480812372345"
     },
     "user_tz": -330
    },
    "id": "kMdi2XO0Xha3",
    "outputId": "1c2a81bc-14c4-45da-87bf-9fefb3ef2cb2"
   },
   "outputs": [],
   "source": [
    "df['Agglomerative_Segments'] = hierarchical_\n",
    "cluster_profile = df.groupby('Agglomerative_Segments').mean()\n",
    "cluster_profile['No. of customers'] = df.groupby('Agglomerative_Segments')['Avg_Credit_Limit'].count().values\n",
    "cluster_profile"
   ]
  },
  {
   "cell_type": "markdown",
   "metadata": {
    "id": "rRGZx_LOWfmU"
   },
   "source": [
    "### **Insights**\n",
    "\n",
    "- If we look at the data we see that there is a group which prefers online interactions with their bank, they have a much higher credit limit (~1,20,000K) and also have more credit cards (cluster - 1) and this group is having just 32 customers.\n",
    "- The customers who prefer in-person interactions tend to have the low-range of credit cards (~25,000K)and credit limit (cluster - 0) and this group has 606 customers.\n"
   ]
  },
  {
   "cell_type": "markdown",
   "metadata": {
    "id": "YgHjlqQQXha5"
   },
   "source": [
    "## Compare cluster K-means clusters and Hierarchical clusters - Perform cluster profiling - Derive Insights"
   ]
  },
  {
   "cell_type": "code",
   "execution_count": null,
   "metadata": {
    "executionInfo": {
     "elapsed": 788,
     "status": "ok",
     "timestamp": 1680068617568,
     "user": {
      "displayName": "AIML Program",
      "userId": "12349933480812372345"
     },
     "user_tz": -330
    },
    "id": "NWpW7-bhXha5"
   },
   "outputs": [],
   "source": [
    "kmeans_      = KMeans(n_clusters=3, random_state=40).fit_predict(std_data)"
   ]
  },
  {
   "cell_type": "code",
   "execution_count": null,
   "metadata": {
    "executionInfo": {
     "elapsed": 5,
     "status": "ok",
     "timestamp": 1680068618290,
     "user": {
      "displayName": "AIML Program",
      "userId": "12349933480812372345"
     },
     "user_tz": -330
    },
    "id": "c29b-hQbXha6"
   },
   "outputs": [],
   "source": [
    "hierarchical_= AgglomerativeClustering(linkage='complete', affinity='euclidean', n_clusters=2).fit_predict(std_data)"
   ]
  },
  {
   "cell_type": "code",
   "execution_count": null,
   "metadata": {
    "executionInfo": {
     "elapsed": 803,
     "status": "ok",
     "timestamp": 1680068619912,
     "user": {
      "displayName": "AIML Program",
      "userId": "12349933480812372345"
     },
     "user_tz": -330
    },
    "id": "-wbmesMFXha6"
   },
   "outputs": [],
   "source": [
    "kmeansSilhouette_Score        = metrics.silhouette_score(std_data, kmeans_, metric='euclidean')\n",
    "\n",
    "Hierarchical_Silhouette_Score = metrics.silhouette_score(std_data, hierarchical_, metric='euclidean')"
   ]
  },
  {
   "cell_type": "code",
   "execution_count": null,
   "metadata": {
    "colab": {
     "base_uri": "https://localhost:8080/",
     "height": 112
    },
    "executionInfo": {
     "elapsed": 4,
     "status": "ok",
     "timestamp": 1680068619912,
     "user": {
      "displayName": "AIML Program",
      "userId": "12349933480812372345"
     },
     "user_tz": -330
    },
    "id": "LBChjHO3Xha7",
    "outputId": "59b4497d-ba0a-4c5e-964b-7d333b9cc05d"
   },
   "outputs": [],
   "source": [
    "Clustering_Silhouette_Scores  = [ ['KMeans',kmeansSilhouette_Score ], ['Hierarchical',Hierarchical_Silhouette_Score ]]\n",
    "\n",
    "Clustering_Silhouette_Scores  = pd.DataFrame(Clustering_Silhouette_Scores, columns=['Clustering Method', 'Silhouette Score']) \n",
    "Clustering_Silhouette_Scores.sort_values(by='Silhouette Score', ascending= False)"
   ]
  },
  {
   "cell_type": "markdown",
   "metadata": {
    "id": "KHs9716UXha7"
   },
   "source": [
    "***The Hierarchical method seems more suitable with a high silhouette score, after checking clusters and the number of variables in each cluster***"
   ]
  },
  {
   "cell_type": "markdown",
   "metadata": {
    "id": "Ilv6nzUC6wQ4"
   },
   "source": [
    "Based on the information provided, it appears that your client has identified three distinct categories of customers: in-person users, phone users, and online users. Each group has different preferences when it comes to handling bank transactions and receiving notifications. \n",
    "\n",
    "In-person users prefer to handle transactions in person and would likely prefer mail notifications and upselling when at the bank location. On the other hand, phone and in-person customers should be approached to promote online banking. Phone users have the fewest credit cards and lowest credit card limit while online users have the most credit cards and the highest available credit.\n",
    "\n",
    "The text suggests that your client should use customer preferences to contact them. Online/phone users will probably prefer email/text notifications, while in-person users prefer mail notifications and upselling (when at the bank location). \n",
    "\n",
    "Overall, it is recommended that your client improve their online services and reach more customers via email/messages rather than phone calls. This will likely be more effective for online/phone users who prefer digital communications."
   ]
  },
  {
   "cell_type": "code",
   "execution_count": null,
   "metadata": {
    "id": "dr4_Vq32XhbA"
   },
   "outputs": [],
   "source": []
  }
 ],
 "metadata": {
  "colab": {
   "provenance": []
  },
  "kernelspec": {
   "display_name": "Python 3 (ipykernel)",
   "language": "python",
   "name": "python3"
  },
  "language_info": {
   "codemirror_mode": {
    "name": "ipython",
    "version": 3
   },
   "file_extension": ".py",
   "mimetype": "text/x-python",
   "name": "python",
   "nbconvert_exporter": "python",
   "pygments_lexer": "ipython3",
   "version": "3.11.4"
  }
 },
 "nbformat": 4,
 "nbformat_minor": 1
}
